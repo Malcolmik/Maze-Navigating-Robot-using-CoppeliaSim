{
 "cells": [
  {
   "cell_type": "markdown",
   "metadata": {},
   "source": [
    "## Robot programming workshop 05\n",
    "\n",
    "<div class=\"alert alert-block alert-info\">For this workshop you will be using a new robot, the dr20, and a new environment, a short 'maze' with a curvy path to get gent out. The dr20 robot had a richer array of sensors than the line-following robot, with <b>4 left and right facing ultrasonic sensors, a front facing laser sensor and a front facing camera</b>. The goal of this workshop is to interface with the robot class and write some code to pilot the robot out of the 'maze'.  At the moment there is no definite end to the 'maze' (emerging from the walled part) so you will have to see if there is any change to the sensors to see if there is a way of detecting this state.  Make sure you have save sim.py, simConst.py (or vrepConst.py) and remoteApi.dll files to a directory and also downloaded the short_path_vrep.ttt to your working folder (a known location)</div>"
   ]
  },
  {
   "attachments": {
    "image.png": {
     "image/png": "[encoded data removed]"
    }
   },
   "cell_type": "markdown",
   "metadata": {},
   "source": [
    "![image.png](attachment:image.png)"
   ]
  },
  {
   "cell_type": "markdown",
   "metadata": {},
   "source": [
    "<font color=\"red\"><b>Task 1:</b></font> Download the <b>short_path_vrep.ttt</b> to a working directory where you have saved sim.py, simConst.py (or vrepConst.py) and remoteApi.dll and change your path to that directory.  "
   ]
  },
  {
   "cell_type": "code",
   "execution_count": null,
   "metadata": {},
   "outputs": [],
   "source": [
    "import os\n",
    "desiredPath = \"C:\\\\Users\\\\2220205\\\\OneDrive - University of Wolverhampton\\\\Desktop\\\\Robotics\\\\Robotics\\\\Files\" # set path to working folder\n",
    "os.chdir(desiredPath)\n",
    "print(\"Current working directory: {}\".format(os.getcwd()))   # sanity check"
   ]
  },
  {
   "cell_type": "markdown",
   "metadata": {},
   "source": [
    "<font color=\"red\"><b>Task 2:</b></font> Load the other libraries we are going to use for this workshop <i>Note: This week we will also be making use of numpy otherwise this will be a very short workshop!!</i>.  "
   ]
  },
  {
   "cell_type": "code",
   "execution_count": null,
   "metadata": {},
   "outputs": [],
   "source": [
    "try:\n",
    "    import sim\n",
    "except:\n",
    "    print ('--------------------------------------------------------------')\n",
    "    print ('\"sim.py\" could not be imported. This means very probably that')\n",
    "    print ('either \"sim.py\" or the remoteApi library could not be found.')\n",
    "    print ('Make sure both are in the same folder as this file,')\n",
    "    print ('or appropriately adjust the file \"sim.py\"')\n",
    "    print ('--------------------------------------------------------------')\n",
    "    print ('')\n",
    "\n",
    "import time\n",
    "import sys\n",
    "import numpy as np  # used for the camera data\n",
    "\n",
    "## choose the correct version of the library to import  \n",
    "if os.path.isfile('/'.join([desiredPath, 'vrepConst.py'])):\n",
    "    import vrepConst as wlvConst\n",
    "else:\n",
    "    import simConst as wlvConst"
   ]
  },
  {
   "cell_type": "markdown",
   "metadata": {},
   "source": [
    "<font color=\"red\"><b>Task 3:</b></font> Below is a wrapper class for the dr20 robot. <i>It is complete enough for this weeks workshop but may need more work to use the full set of sensors on the robot</i>. "
   ]
  },
  {
   "cell_type": "code",
   "execution_count": null,
   "metadata": {},
   "outputs": [],
   "source": [
    "class Dr20Robot_Interface:\n",
    "\n",
    "    def __init__(self, sim, clientID):\n",
    "        self._sim = sim\n",
    "        self.clientID = clientID\n",
    "        err, self.robHandle = sim.simxGetObjectHandle(clientID, \"dr20\", sim.simx_opmode_oneshot_wait )\n",
    "        if err > 0:\n",
    "            print(\"*** Error getting robot handle {}\".format(err))\n",
    "        \n",
    "        errCode = [0] * 7\n",
    "        ## attach actuators and sensors\n",
    "        errCode[0], self.leftMotor = sim.simxGetObjectHandle(clientID, \"dr20_leftWheelJoint_\", sim.simx_opmode_oneshot_wait )\n",
    "        errCode[1], self.rightMotor = sim.simxGetObjectHandle(clientID, \"dr20_rightWheelJoint_\", sim.simx_opmode_oneshot_wait )\n",
    "\n",
    "        errCode[2], self.infrared1 = sim.simxGetObjectHandle(clientID, \"dr20_infraredSensor1_\", sim.simx_opmode_oneshot_wait )\n",
    "        errCode[3], self.infrared2 = sim.simxGetObjectHandle(clientID, \"dr20_infraredSensor2_\", sim.simx_opmode_oneshot_wait )\n",
    "        errCode[4], self.infrared5 = sim.simxGetObjectHandle(clientID, \"dr20_infraredSensor5_\", sim.simx_opmode_oneshot_wait )\n",
    "        errCode[5], self.infrared6 = sim.simxGetObjectHandle(clientID, \"dr20_infraredSensor6_\", sim.simx_opmode_oneshot_wait )\n",
    "        errCode[6], self.ultasonic = sim.simxGetObjectHandle(clientID, \"dr20_ultrasonicSensor_\", sim.simx_opmode_oneshot_wait )\n",
    "\n",
    "        if sum(errCode) > 0:\n",
    "            print(\"*** Error initialising robot {}\".format(errCode))\n",
    "\n",
    "        for _ in range(10):\n",
    "            err_code,detectionState,detectedPoint,detectedObjectHandle, detectedSurfaceNormalVector=sim.simxReadProximitySensor(clientID,self.infrared1,sim.simx_opmode_streaming)\n",
    "            err_code,detectionState,detectedPoint,detectedObjectHandle, detectedSurfaceNormalVector=sim.simxReadProximitySensor(clientID,self.infrared2,sim.simx_opmode_streaming)\n",
    "            err_code,detectionState,detectedPoint,detectedObjectHandle, detectedSurfaceNormalVector=sim.simxReadProximitySensor(clientID,self.infrared5,sim.simx_opmode_streaming)\n",
    "            err_code,detectionState,detectedPoint,detectedObjectHandle, detectedSurfaceNormalVector=sim.simxReadProximitySensor(clientID,self.infrared6,sim.simx_opmode_streaming)\n",
    "            err_code,detectionState,detectedPoint,detectedObjectHandle, detectedSurfaceNormalVector=sim.simxReadProximitySensor(clientID,self.ultasonic,sim.simx_opmode_streaming)\n",
    "            err_code, property = self._sim.simxGetModelProperty(clientID, self.robHandle, sim.simx_opmode_streaming)\n",
    "\n",
    "        ## set up some robot constants\n",
    "        self.v0=0.4 \n",
    "        self.wheelDiameter=0.085 \n",
    "        self.interWheelDistance=0.254 \n",
    "        self.noDetectionDistance=1.0\n",
    "        self.viewSensors = False\n",
    "        ## Braitenberg weights:\n",
    "        self.brait_left = [0,-0.5,-1.25,-1,-0.2]\n",
    "\n",
    "    def rotate_right(self, speed=2.0, distance=None):\n",
    "        if distance is None:\n",
    "            self._set_two_motor(speed, -speed)\n",
    "        else:\n",
    "            duration = distance/speed\n",
    "            self._set_two_motor(speed, -speed)\n",
    "            time.sleep(duration)\n",
    "            self.stop()\n",
    "\n",
    "    def rotate_left(self, speed=2.0, distance=None):\n",
    "        if distance is None:\n",
    "            self._set_two_motor(-speed, speed)\n",
    "        else:\n",
    "            duration = distance/speed\n",
    "            self._set_two_motor(-speed, speed)\n",
    "            time.sleep(duration)\n",
    "            self.stop()\n",
    "\n",
    "\n",
    "    def move_forward(self, speed=2.0, distance=None):\n",
    "        if distance is None:\n",
    "            self._set_two_motor(speed, speed)\n",
    "        else:\n",
    "            duration = distance/speed\n",
    "            self._set_two_motor(speed, speed)\n",
    "            time.sleep(duration)\n",
    "            self.stop()\n",
    "\n",
    "    def move_backward(self, speed=2.0, distance=None):\n",
    "        ## move the robot backwards\n",
    "        if distance is None:\n",
    "            self._set_two_motor(-speed, -speed)\n",
    "        else:\n",
    "            duration = distance/speed\n",
    "            self._set_two_motor(-speed, -speed)\n",
    "            time.sleep(duration)\n",
    "            self.stop()\n",
    "\n",
    "    def _set_two_motor(self, left: float, right: float):\n",
    "        self._sim.simxSetJointTargetVelocity(self.clientID, self.leftMotor, left, self._sim.simx_opmode_blocking )\n",
    "        self._sim.simxSetJointTargetVelocity(self.clientID, self.rightMotor, right, self._sim.simx_opmode_blocking )\n",
    "\n",
    "    def stop(self):\n",
    "        self._set_two_motor(0.0, 0.0)\n",
    "\n",
    "    def _readSensor(self, sensorHandle, sensorType):\n",
    "        if sensorType == wlvConst.sim_object_forcesensor_type:\n",
    "            result, s, f, t = self._sim.simxReadForceSensor(self.clientID, sensorHandle, self._sim.simx_opmode_blocking)\n",
    "            return s, f, t\n",
    "        elif sensorType == wlvConst.sim_object_proximitysensor_type:\n",
    "            err_code,detectionState,detectedPoint,detectedObjectHandle, detectedSurfaceNormalVecto = self._sim.simxReadProximitySensor(self.clientID, sensorHandle, self._sim.simx_opmode_buffer)\n",
    "            distance = np.linalg.norm(detectedPoint)\n",
    "            if err_code == 0 and detectionState == True:\n",
    "                return wlvConst.simx_return_ok, distance\n",
    "            return 1, self.noDetectionDistance\n",
    "        elif sensorType == wlvConst.sim_object_visionsensor_type:\n",
    "            result, s, auxPackets = self._sim.simxReadVisionSensor(self.clientID, sensorHandle, self._sim.simx_opmode_blocking)\n",
    "            raw_image = auxPackets[::-1]  ## flip the values to RGB\n",
    "            backImage = np.array(raw_image, dtype=np.uint8)\n",
    "            backImage.resize([resolution[0],resolution[0],3])\n",
    "            image = np.flip(backImage, 0) ## (un)reverse the image, as it is reversed\n",
    "            return s, image\n",
    "        else:\n",
    "            raise Exception('Unknow sensor type {} in _readSensor'.format(sensorType))\n",
    "\n",
    "    def readSensors(self):\n",
    "        sensReading = [self.noDetectionDistance,\n",
    "                       self.noDetectionDistance,\n",
    "                       self.noDetectionDistance,\n",
    "                       self.noDetectionDistance,\n",
    "                       self.noDetectionDistance]\n",
    "        ## Read the sensors:\n",
    "        err, dist = self._readSensor(self.infrared5, wlvConst.sim_object_proximitysensor_type)\n",
    "        sensReading[0] = dist if (err == wlvConst.simx_return_ok) and (dist < self.noDetectionDistance) else self.noDetectionDistance\n",
    "\n",
    "        err, dist = self._readSensor(self.infrared6, wlvConst.sim_object_proximitysensor_type)\n",
    "        sensReading[1] = dist if (err == wlvConst.simx_return_ok) and (dist < self.noDetectionDistance) else self.noDetectionDistance\n",
    "\n",
    "        err, dist = self._readSensor(self.ultasonic, wlvConst.sim_object_proximitysensor_type)\n",
    "        sensReading[2] = dist if (err == wlvConst.simx_return_ok) and (dist < self.noDetectionDistance) else self.noDetectionDistance\n",
    "\n",
    "        err, dist = self._readSensor(self.infrared1, wlvConst.sim_object_proximitysensor_type)\n",
    "        sensReading[3] = dist if (err == wlvConst.simx_return_ok) and (dist < self.noDetectionDistance) else self.noDetectionDistance\n",
    "\n",
    "        err, dist = self._readSensor(self.infrared2, wlvConst.sim_object_proximitysensor_type)\n",
    "        sensReading[4] = dist if (err == wlvConst.simx_return_ok) and (dist < self.noDetectionDistance) else self.noDetectionDistance\n",
    "        return sensReading\n",
    "\n",
    "    def robotBehaviour(self):\n",
    "        assert False, \"This is the abstract robotBehaviour method, you should inherit and override this method\"\n"
   ]
  },
  {
   "cell_type": "markdown",
   "metadata": {},
   "source": [
    "I am using OO design here (inheritance and overriding) to expose the robotBehaviour for modification. At the moment the robotBehaviour method implements a Braitenberg algorithm (Google it!!) for demonstration purposes only.  The Braitenberg algorithm is not smart enough to solve the task so <b>you may freely remove, modify or experiment with the robot behaviour by editing the robotBehaviour method</b> without the need to make too many changes to the <i>Dr20Robot_Interface</i> class. "
   ]
  },
  {
   "cell_type": "markdown",
   "metadata": {},
   "source": [
    "<font color=\"red\"><b>Task 4:</b></font> This is the main loop of the program it connects to v-rep/CoppeliaSim, creats the bot and runs the whole thing for a fixed number of iterations."
   ]
  },
  {
   "cell_type": "code",
   "execution_count": null,
   "metadata": {},
   "outputs": [],
   "source": [
    "def shortPathMain(viewSensors=False, iterations = 100):\n",
    "    print ('Program started')\n",
    "    sim.simxFinish(-1) # just in case, close all opened connections\n",
    "\n",
    "    clientID=sim.simxStart('127.0.0.1',19997,True,True,5000,5) # Connect to CoppeliaSim\n",
    "\n",
    "    if clientID != -1:\n",
    "        print ('Connected to remote API server')\n",
    "    else:\n",
    "        print('Connection failed!!')\n",
    "        sys.exit('Could not connect')\n",
    "\n",
    "    bot = Dr20Robot(sim, clientID)\n",
    "    bot.viewSensors = viewSensors  # yeah - setters are for Java jockeys!!\n",
    "\n",
    "    ## Run the robot loop\n",
    "    for _ in range(iterations):\n",
    "        bot.robotBehaviour()\n",
    "        time.sleep(1.0)\n",
    "\n",
    "    ## Stop the robot\n",
    "    bot.stop()\n",
    "    time.sleep(0.5)    \n",
    "    sim.simxFinish(-1) \n",
    "    print(\"...done\")"
   ]
  },
  {
   "cell_type": "markdown",
   "metadata": {},
   "source": [
    "Remember to <b>run the v-rep/CoppeliaSim scene first</b> and then run the cell below."
   ]
  },
  {
   "cell_type": "code",
   "execution_count": null,
   "metadata": {},
   "outputs": [],
   "source": [
    "viewSensors = False \n",
    "try:\n",
    "    shortPathMain(viewSensors)\n",
    "except Exception as ex:\n",
    "    print(\"Exception was: {}\".format(ex))\n",
    "    sim.simxFinish(-1) ## just in case, close all opened connections\n",
    "    print(\"...uh oh, something went wrong!!!\")"
   ]
  },
  {
   "cell_type": "markdown",
   "metadata": {},
   "source": [
    "<font color=\"red\"><b>Task 5:</b></font> As you can see the robot behaviour is a little too random (controlled by Braitenberg weights) to make much progress along the path.  Can you devise and code a more logical strategy that will allow the robot to progress through the 'maze'. Your strategy should favour moving forward if there is no obstacle in front of the robot or turning towards a space with the greatest distance if the robot is surrounded by walls. <i>Hint: 1) Examination of the sensor reading values may allow you a good idea of what the robot sees.</i> "
   ]
  },
  {
   "cell_type": "code",
   "execution_count": null,
   "metadata": {},
   "outputs": [],
   "source": [
    "class Dr20Robot(Dr20Robot_Interface):\n",
    "    def __init__(self, sim, clientID):\n",
    "        super().__init__(sim, clientID)\n",
    "\n",
    "    def robotBehaviour(self):\n",
    "        sensReading = self.readSensors()\n",
    "        front_left = sensReading[0]\n",
    "        front = sensReading[2]\n",
    "        front_right = sensReading[3]\n",
    "        back_left = sensReading[2]\n",
    "        back_right = sensReading[4]\n",
    "\n",
    "\n",
    "        # Print sensor readings\n",
    "        print(\"Sensor Readings:\", front_left, front_right, front)\n",
    "      \n",
    "        if front < 0.99:\n",
    "            if front_left < 0.7 and front_left < front_right:\n",
    "                self.rotate_right(1.5)\n",
    "            elif front_right < 0.7 and front_right < front_left: \n",
    "                self.rotate_left(1.5)\n",
    "        else:\n",
    "            self.move_forward(7)\n",
    "            "
   ]
  },
  {
   "cell_type": "code",
   "execution_count": null,
   "metadata": {},
   "outputs": [],
   "source": [
    "viewSensors = False\n",
    "try:\n",
    "    shortPathMain(viewSensors)\n",
    "except Exception as ex:\n",
    "    print(\"Exception was: {}\".format(ex))\n",
    "    sim.simxFinish(-1) \n",
    "    print(\"...uh oh, something went wrong!!!\")"
   ]
  },
  {
   "cell_type": "markdown",
   "metadata": {},
   "source": [
    "## <div class=\"alert alert-block alert-danger\">That is the end for this workbook. When you shutdown CoppeliaSim it will offer you the opportunity to save changes, select <b>No</b>. And remember to save your workbook before you shutdown. Next week: we will look at adding even more intelligent behaviour to our robot design. </div>"
   ]
  }
 ],
 "metadata": {
  "kernelspec": {
   "display_name": "Python 3 (ipykernel)",
   "language": "python",
   "name": "python3"
  },
  "language_info": {
   "codemirror_mode": {
    "name": "ipython",
    "version": 3
   },
   "file_extension": ".py",
   "mimetype": "text/x-python",
   "name": "python",
   "nbconvert_exporter": "python",
   "pygments_lexer": "ipython3",
   "version": "3.11.5"
  }
 },
 "nbformat": 4,
 "nbformat_minor": 2
}
