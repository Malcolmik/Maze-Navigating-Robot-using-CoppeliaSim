{
 "cells": [
  {
   "cell_type": "markdown",
   "metadata": {},
   "source": [
    "## Robot programming workshop 07\n",
    "\n",
    "<div class=\"alert alert-block alert-info\">For this workshop you will be using the dr20 robot and a new environment, a more complex 'maze' with straight lines and sign posts, 02_Maze_scene_vrep.ttt, that we can use to further test the dr20's array of sensors including its front facing camera. The goal of this workshop is to interface with the robot class and write some code to pilot the robot around the 'maze' to take photos of the sign posts at each junction. <i>We will then hopefully be able to use these photos to later train a simple neural network towards helping to solve the maze in a later workshop.</i> Make sure you have save sim.py, simConst.py (or vrepConst.py) and remoteApi.dll files to a directory and also downloaded the <b>02_Maze_scene_vrep.ttt</b> to your working folder (a known location)</div>"
   ]
  },
  {
   "attachments": {
    "image.jpg": {
     "image/jpeg": "[encoded data removed]"
    }
   },
   "cell_type": "markdown",
   "metadata": {},
   "source": [
    "![image.jpg](attachment:image.jpg)"
   ]
  },
  {
   "cell_type": "markdown",
   "metadata": {},
   "source": [
    "<font color=\"red\"><b>Task 1:</b></font> Download the <b>short_path_vrep.ttt</b> to a working directory where you have saved sim.py, simConst.py (or vrepConst.py) and remoteApi.dll and change your path to that directory.  "
   ]
  },
  {
   "cell_type": "code",
   "execution_count": null,
   "metadata": {},
   "outputs": [],
   "source": [
    "import os\n",
    "# set this path to your working folder\n",
    "desiredPath = \"C:\\\\Users\\\\2220205\\\\OneDrive - University of Wolverhampton\\\\Desktop\\\\Robotics\\\\Robotics\\\\Files\" \n",
    "os.chdir(desiredPath)\n",
    "print(\"Current working directory: {}\".format(os.getcwd()))   # sanity check\n",
    "\n",
    "try:\n",
    "    import sim\n",
    "except:\n",
    "    print ('--------------------------------------------------------------')\n",
    "    print ('\"sim.py\" could not be imported. This means very probably that')\n",
    "    print ('either \"sim.py\" or the remoteApi library could not be found.')\n",
    "    print ('Make sure both are in the same folder as this file,')\n",
    "    print ('or appropriately adjust the file \"sim.py\"')\n",
    "    print ('--------------------------------------------------------------')\n",
    "    print ('')\n",
    "\n",
    "import time\n",
    "import sys\n",
    "# used for the camera data\n",
    "import numpy as np\n",
    "from PIL import Image\n",
    "import csv\n",
    "\n",
    "if os.path.isfile('/'.join([desiredPath, 'vrepConst.py'])):\n",
    "    import vrepConst as wlvConst\n",
    "else:\n",
    "    import simConst as wlvConst"
   ]
  },
  {
   "cell_type": "markdown",
   "metadata": {},
   "source": [
    "<font color=\"red\"><b>Task 2:</b></font> Just a test that the PIL image library is working and we can display images on our machine.  The show method should launch a default viewer on your system and display the image.  "
   ]
  },
  {
   "cell_type": "code",
   "execution_count": null,
   "metadata": {},
   "outputs": [],
   "source": [
    "# Location of the image\n",
    "img = Image.open(\"pepper.jpg\")\n",
    "\n",
    "img.show()"
   ]
  },
  {
   "cell_type": "markdown",
   "metadata": {},
   "source": [
    "<font color=\"red\"><b>Task 3:</b></font> The following is our instance of the Dr20Robot which will initialise the camera sensor and add code to capture an image (allowing the robot to 'see') and conduct some post processing to record the information in the image.  Note: we need to use this version of the camera handing code as the code for this in the base class does not work.  "
   ]
  },
  {
   "cell_type": "code",
   "execution_count": null,
   "metadata": {},
   "outputs": [],
   "source": [
    "from Dr20Robot import Dr20Robot_Interface\n",
    "\n",
    "class Dr20Robot(Dr20Robot_Interface):\n",
    "\n",
    "    def __init__(self, sim, clientID):\n",
    "        Dr20Robot_Interface.__init__(self, sim, clientID)\n",
    "        errCode, self.cameraSensor = sim.simxGetObjectHandle(clientID, \"Vision_sensor\", sim.simx_opmode_oneshot_wait )\n",
    "        if errCode > 0:\n",
    "            print(\"*** Error getting initialising the camera {}\".format(errCode))\n",
    "        returnCode,resolution,raw_image=sim.simxGetVisionSensorImage(clientID, self.cameraSensor, 0,sim.simx_opmode_streaming)\n",
    "\n",
    "    def robotBehaviour(self):\n",
    "        sensReading = self.readSensors()\n",
    "        front_left = sensReading[0]\n",
    "        front = sensReading[2]\n",
    "        front_right = sensReading[3]\n",
    "        rear_left = sensReading[1]\n",
    "        rear_right = sensReading[4]\n",
    "\n",
    "\n",
    "        self.move_forward(0.2)\n",
    "        if front < 0.2:\n",
    "            self.stop()\n",
    "            time.sleep(1)\n",
    "            image = self.camera_image()\n",
    "            self.processImage(image)\n",
    "            self.stop()\n",
    "            if rear_left > rear_right:\n",
    "                self.rotate_left(0.2)\n",
    "                time.sleep(3)\n",
    "                self.stop()\n",
    "                self.move_forward(0.2)\n",
    "            elif rear_left < 1 and rear_right < 0.6:\n",
    "                self.rotate_right(0.2)\n",
    "                time.sleep(3)\n",
    "                self.stop()\n",
    "                self.move_forward(0.2)\n",
    "            elif rear_left < 0.5:\n",
    "                self.rotate_right(0.2)\n",
    "                time.sleep(3)\n",
    "                self.stop()\n",
    "                self.move_forward(0.2)\n",
    "            elif rear_right < 0.5:\n",
    "                self.rotate_left(0.2)\n",
    "                time.sleep(3)\n",
    "                self.stop()\n",
    "                self.move_forward(0.2)\n",
    "            elif rear_right <= 1 and rear_left <= 1:\n",
    "                self.rotate_left(0.2)\n",
    "                time.sleep(3)\n",
    "                self.stop()\n",
    "                self.move_forward(0.2)\n",
    "        \n",
    "        \n",
    "    def processImage(self, array_raw):\n",
    "        (h, w, d) = array_raw.shape\n",
    "        print(\"width={}, height={}, depth={}\".format(w, h, d))\n",
    "        array = array_raw[::-1]\n",
    "\n",
    "        if False: \n",
    "            list_columns = ['R', 'G', 'B'] \n",
    "            np_array_col = np.array(list_columns)\n",
    "            with open('data1.csv', 'w') as csvfile:\n",
    "                write = csv.writer(csvfile)\n",
    "                write.writerow(np_array_col)\n",
    "                write.writerows(array)\n",
    "\n",
    "        img = Image.fromarray(array)\n",
    "        if True: \n",
    "            img.save(\"image.jpg\")\n",
    "        if True:\n",
    "            img.show()\n",
    "\n",
    "        \n",
    "    def camera_image(self):\n",
    "        returnCode,resolution,raw_image=self._sim.simxGetVisionSensorImage(self.clientID, self.cameraSensor, 0,self._sim.simx_opmode_streaming)\n",
    "        time.sleep(0.2)\n",
    "        returnCode,resolution,raw_image=self._sim.simxGetVisionSensorImage(self.clientID, self.cameraSensor, 0,self._sim.simx_opmode_buffer)\n",
    "        image = np.array(raw_image).astype(np.uint8)\n",
    "        if False: \n",
    "            print(returnCode)\n",
    "            print(resolution)\n",
    "            print(len(raw_image))\n",
    "        image.resize([resolution[0],resolution[0],3])\n",
    "        return image"
   ]
  },
  {
   "cell_type": "markdown",
   "metadata": {},
   "source": [
    "<font color=\"red\"><b>Task 4:</b></font> Connects to the simulator, creates the robot, sets it to run, and closes the network connection once the robot is done.  "
   ]
  },
  {
   "cell_type": "code",
   "execution_count": null,
   "metadata": {},
   "outputs": [],
   "source": [
    "def mazeRobotTest():\n",
    "    print ('Program started')\n",
    "    sim.simxFinish(-1) \n",
    "\n",
    "    clientID=sim.simxStart('127.0.0.1',19997,True,True,5000,5) # Connect to CoppeliaSim\n",
    "\n",
    "    if clientID != -1:\n",
    "        print ('Connected to remote API server')\n",
    "    else:\n",
    "        print('Connection failed!!')\n",
    "        sys.exit('Could not connect')\n",
    "\n",
    "    bot = Dr20Robot(sim, clientID)\n",
    "    bot.robotBehaviour()\n",
    "    time1 = time.time()\n",
    "    bot.stop()\n",
    "    time.sleep(1)\n",
    "    bot.rotate_right(0.2)\n",
    "    time.sleep(0.1)\n",
    " \n",
    "    while time.time() - time1 < 1000000:\n",
    "        bot.robotBehaviour()\n",
    "            \n",
    "        \n",
    "    bot.stop()\n",
    "    time.sleep(0.5)    \n",
    "    sim.simxFinish(-1) \n",
    "    print(\"...done\")"
   ]
  },
  {
   "cell_type": "markdown",
   "metadata": {},
   "source": [
    "<font color=\"red\"><b>Task 5:</b></font> Run the V-rep/CoppeliaSim Dr20 robot  (remember to also run the scene) and read the sensor data. <b>Note: the processImage function blocks/halts the program waiting for the image window to be closed before proceeding</b> "
   ]
  },
  {
   "cell_type": "code",
   "execution_count": null,
   "metadata": {
    "scrolled": true
   },
   "outputs": [],
   "source": [
    "try:\n",
    "    mazeRobotTest()\n",
    "except Exception as ex:\n",
    "    print(\"Exception was: {}\".format(ex))\n",
    "    sim.simxFinish(-1) ## just in case, close all opened connections\n",
    "    print(\"...uh oh, something went wrongt!!!\")"
   ]
  },
  {
   "cell_type": "markdown",
   "metadata": {},
   "source": [
    "<font color=\"red\"><b>Task 6:</b></font> For this workshop you will be navigating the maze.  At each junction (before the robot takes a left, right or about turn) your robot should take a picture of the sign and save the image to a file. Your robot can stop after taking <b>10 images</b>, <i>(there are about 25 signs in the scene to choose from).  You may use the cells below for your solution and/or edit the code in <b>task 3</b> above</i>.<br><br><b>Note:</b>  Your robot's behaviour should be general and autonomous, ie. based on the robot's sensor readings to decide where to turn, marks will be deducted if you merely feed a sequence of turn instructions for the robot to follow.       "
   ]
  },
  {
   "cell_type": "markdown",
   "metadata": {},
   "source": [
    "<div class=\"alert alert-block alert-danger\">That is the end for this workbook. When you shutdown CoppeliaSim it will offer you the opportunity to save changes, select <b>No</b>. And remember to save your workbook before you shutdown. Next week: The final section on this introduction to writing code for robotics. </div>"
   ]
  }
 ],
 "metadata": {
  "kernelspec": {
   "display_name": "Python 3 (ipykernel)",
   "language": "python",
   "name": "python3"
  },
  "language_info": {
   "codemirror_mode": {
    "name": "ipython",
    "version": 3
   },
   "file_extension": ".py",
   "mimetype": "text/x-python",
   "name": "python",
   "nbconvert_exporter": "python",
   "pygments_lexer": "ipython3",
   "version": "3.11.5"
  }
 },
 "nbformat": 4,
 "nbformat_minor": 2
}
